{
 "cells": [
  {
   "cell_type": "code",
   "execution_count": 3,
   "metadata": {},
   "outputs": [],
   "source": [
    "__author__ = 'pbj00812@gmail.com'"
   ]
  },
  {
   "cell_type": "code",
   "execution_count": 4,
   "metadata": {},
   "outputs": [],
   "source": [
    "import numpy as np\n",
    "import cv2"
   ]
  },
  {
   "cell_type": "code",
   "execution_count": 13,
   "metadata": {},
   "outputs": [],
   "source": [
    "def bitOperation(hpos, vpos):\n",
    "    img1 = cv2.imread('../images/joboa3.jpg')\n",
    "    img2 = cv2.imread('../images/logo.jpg') # the picture must have black bg!!!\n",
    "    \n",
    "    rows, cols, channels = img2.shape\n",
    "    roi = img1[vpos:rows+vpos, hpos:cols+hpos]\n",
    "    \n",
    "    img2gray = cv2.cvtColor(img2, cv2.COLOR_BGR2GRAY)\n",
    "    cv2.imshow('img2gray', img2gray)\n",
    "    ret, mask = cv2.threshold(img2gray, 10, 255, cv2.THRESH_BINARY)\n",
    "    mask_inv = cv2.bitwise_not(mask)\n",
    "    cv2.imshow('mask_inv', mask_inv)\n",
    "    \n",
    "    img1_bg = cv2.bitwise_and(roi, roi, mask=mask_inv)\n",
    "    cv2.imshow('img1_bg', img1_bg)\n",
    "    img2_fg = cv2.bitwise_and(img2, img2, mask=mask)\n",
    "    cv2.imshow('img2_fg', img2_fg)\n",
    "    \n",
    "    dst = cv2.add(img1_bg, img2_fg)\n",
    "    img1[vpos:rows+vpos, hpos:cols+hpos] = dst\n",
    "    \n",
    "    cv2.imshow('result', img1)\n",
    "    cv2.waitKey(0)\n",
    "    cv2.destroyAllWindows()"
   ]
  },
  {
   "cell_type": "code",
   "execution_count": 14,
   "metadata": {},
   "outputs": [],
   "source": [
    "bitOperation(10, 10)"
   ]
  },
  {
   "cell_type": "code",
   "execution_count": null,
   "metadata": {},
   "outputs": [],
   "source": []
  }
 ],
 "metadata": {
  "kernelspec": {
   "display_name": "Python 3",
   "language": "python",
   "name": "python3"
  },
  "language_info": {
   "codemirror_mode": {
    "name": "ipython",
    "version": 3
   },
   "file_extension": ".py",
   "mimetype": "text/x-python",
   "name": "python",
   "nbconvert_exporter": "python",
   "pygments_lexer": "ipython3",
   "version": "3.5.6"
  }
 },
 "nbformat": 4,
 "nbformat_minor": 2
}
