{
 "cells": [
  {
   "cell_type": "code",
   "execution_count": 3,
   "metadata": {},
   "outputs": [],
   "source": [
    "__author__ = 'pbj00812@gmail.com'"
   ]
  },
  {
   "cell_type": "code",
   "execution_count": 4,
   "metadata": {},
   "outputs": [],
   "source": [
    "import numpy as np\n",
    "import cv2"
   ]
  },
  {
   "cell_type": "code",
   "execution_count": 5,
   "metadata": {},
   "outputs": [],
   "source": [
    "def thresholding():\n",
    "    img = cv2.imread('car.jpg', cv2.IMREAD_GRAYSCALE)\n",
    "    \n",
    "    ret, thr1 = cv2.threshold(img, 127, 255, cv2.THRESH_BINARY)\n",
    "    thr2 = cv2.adaptiveThreshold(img, 255, cv2.ADAPTIVE_THRESH_MEAN_C, cv2.THRESH_BINARY, 11, 2)\n",
    "    # 적용할 픽셀 (x,y)를 중심으로 하는 블록사이즈(11*11) 안에 있는 픽셀값의 평균에서 C(2)를 뺀 값을 문턱값으로 함\n",
    "    thr3 = cv2.adaptiveThreshold(img, 255, cv2.ADAPTIVE_THRESH_GAUSSIAN_C, cv2.THRESH_BINARY, 11, 2)\n",
    "    # 적용할 픽셀 (x,y)를 중심으로 하는 블록사이즈(11*11) 안에 있는 gaussian 윈도우 기반 가중치들의 합에서 C(2)를 뺀 값을 문턱값으로 함\n",
    "    # C  : 양수이면 빼고, 음수이면 더해고, 0이면 그대로\n",
    "    \n",
    "    titles = ['original', 'global thresholding(v=127)', 'adaptive mean', 'adaptive gaussian']\n",
    "    images = [img, thr1, thr2, thr3]\n",
    "    \n",
    "    for i in range(4):\n",
    "        cv2.imshow(titles[i], images[i])\n",
    "        \n",
    "    cv2.waitKey(0)\n",
    "    cv2.destroyAllWindows()"
   ]
  },
  {
   "cell_type": "code",
   "execution_count": 6,
   "metadata": {},
   "outputs": [],
   "source": [
    "thresholding()"
   ]
  },
  {
   "cell_type": "code",
   "execution_count": null,
   "metadata": {},
   "outputs": [],
   "source": []
  }
 ],
 "metadata": {
  "kernelspec": {
   "display_name": "Python 3",
   "language": "python",
   "name": "python3"
  },
  "language_info": {
   "codemirror_mode": {
    "name": "ipython",
    "version": 3
   },
   "file_extension": ".py",
   "mimetype": "text/x-python",
   "name": "python",
   "nbconvert_exporter": "python",
   "pygments_lexer": "ipython3",
   "version": "3.6.4"
  }
 },
 "nbformat": 4,
 "nbformat_minor": 2
}
