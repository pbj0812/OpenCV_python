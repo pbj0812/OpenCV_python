{
 "cells": [
  {
   "cell_type": "code",
   "execution_count": 1,
   "metadata": {},
   "outputs": [],
   "source": [
    "__author__ = 'pbj00812@gmail.com'"
   ]
  },
  {
   "cell_type": "code",
   "execution_count": 3,
   "metadata": {},
   "outputs": [],
   "source": [
    "import numpy as np\n",
    "import cv2"
   ]
  },
  {
   "cell_type": "code",
   "execution_count": 4,
   "metadata": {},
   "outputs": [],
   "source": [
    "img = cv2.imread('car.jpg', cv2.IMREAD_GRAYSCALE)"
   ]
  },
  {
   "cell_type": "code",
   "execution_count": 8,
   "metadata": {},
   "outputs": [],
   "source": [
    "ret, thr1 = cv2.threshold(img, 127, 255, cv2.THRESH_BINARY)\n",
    "# if pixel value >= 127, value = 255, else, value = 0\n",
    "ret, thr2 = cv2.threshold(img, 127, 255, cv2.THRESH_BINARY_INV)\n",
    "# if pixel value >= 127, value = 0, else, value = 255\n",
    "ret, thr3 = cv2.threshold(img, 127, 255, cv2.THRESH_TRUNC)\n",
    "# if pixel value >= 127, value = 127, else, value = value\n",
    "ret, thr4 = cv2.threshold(img, 127, 255, cv2.THRESH_TOZERO)\n",
    "# if pixel value >= 127, value = value, else, value = 0\n",
    "ret, thr5 = cv2.threshold(img, 127, 255, cv2.THRESH_TOZERO_INV)\n",
    "# if pixel value >= 127, value = 0, else, value = value"
   ]
  },
  {
   "cell_type": "code",
   "execution_count": 6,
   "metadata": {},
   "outputs": [],
   "source": [
    "cv2.imshow('original', img)\n",
    "cv2.imshow('binary', thr1)\n",
    "cv2.imshow('binary_inv', thr2)\n",
    "cv2.imshow('trunc', thr3)\n",
    "cv2.imshow('tozero', thr4)\n",
    "cv2.imshow('tozero_inv', thr5)"
   ]
  },
  {
   "cell_type": "code",
   "execution_count": 7,
   "metadata": {},
   "outputs": [],
   "source": [
    "cv2.waitKey(0)\n",
    "cv2.destroyAllWindows()"
   ]
  },
  {
   "cell_type": "code",
   "execution_count": null,
   "metadata": {},
   "outputs": [],
   "source": []
  }
 ],
 "metadata": {
  "kernelspec": {
   "display_name": "Python 3",
   "language": "python",
   "name": "python3"
  },
  "language_info": {
   "codemirror_mode": {
    "name": "ipython",
    "version": 3
   },
   "file_extension": ".py",
   "mimetype": "text/x-python",
   "name": "python",
   "nbconvert_exporter": "python",
   "pygments_lexer": "ipython3",
   "version": "3.6.4"
  }
 },
 "nbformat": 4,
 "nbformat_minor": 2
}
