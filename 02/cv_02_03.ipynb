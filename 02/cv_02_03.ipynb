{
 "cells": [
  {
   "cell_type": "code",
   "execution_count": 2,
   "metadata": {},
   "outputs": [],
   "source": [
    "__author__ = 'pbj00812@gmail.com'"
   ]
  },
  {
   "cell_type": "code",
   "execution_count": 3,
   "metadata": {},
   "outputs": [],
   "source": [
    "import numpy as np\n",
    "import cv2"
   ]
  },
  {
   "cell_type": "code",
   "execution_count": 4,
   "metadata": {},
   "outputs": [],
   "source": [
    "def showImage():\n",
    "    imgfile = 'images/joboa1.jpg'\n",
    "    img = cv2.imread(imgfile, cv2.IMREAD_COLOR)\n",
    "    cv2.imshow('joboa', img)\n",
    "    \n",
    "    k = cv2.waitKey(0) & 0xFF # if your OS is 32bit, you don't need to add '0xFF'\n",
    "    \n",
    "    if k == 27:\n",
    "        cv2.destroyAllWindows() # when you push the esc key, window will be closed.\n",
    "    elif k == ord('c'):\n",
    "        cv2.imwrite('images/joboa1_copy.jpg', img) # when you push the c key, com copy the images\n",
    "        cv2.destroyAllWindows()"
   ]
  },
  {
   "cell_type": "code",
   "execution_count": 5,
   "metadata": {},
   "outputs": [],
   "source": [
    "showImage()"
   ]
  }
 ],
 "metadata": {
  "kernelspec": {
   "display_name": "Python 3",
   "language": "python",
   "name": "python3"
  },
  "language_info": {
   "codemirror_mode": {
    "name": "ipython",
    "version": 3
   },
   "file_extension": ".py",
   "mimetype": "text/x-python",
   "name": "python",
   "nbconvert_exporter": "python",
   "pygments_lexer": "ipython3",
   "version": "3.5.6"
  }
 },
 "nbformat": 4,
 "nbformat_minor": 2
}
