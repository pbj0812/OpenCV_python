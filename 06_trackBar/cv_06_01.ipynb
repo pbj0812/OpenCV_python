{
 "cells": [
  {
   "cell_type": "code",
   "execution_count": 1,
   "metadata": {},
   "outputs": [],
   "source": [
    "__author__ = 'pbj00812@gmail.com'"
   ]
  },
  {
   "cell_type": "code",
   "execution_count": 3,
   "metadata": {},
   "outputs": [],
   "source": [
    "import numpy as np\n",
    "import cv2"
   ]
  },
  {
   "cell_type": "code",
   "execution_count": 4,
   "metadata": {},
   "outputs": [],
   "source": [
    "def onChange(x):\n",
    "    pass"
   ]
  },
  {
   "cell_type": "code",
   "execution_count": 6,
   "metadata": {},
   "outputs": [],
   "source": [
    "def trackbar():\n",
    "    img = np.zeros((200, 512, 3), np.uint8)\n",
    "    cv2.namedWindow('color_palette')\n",
    "    \n",
    "    cv2.createTrackbar('B', 'color_palette', 0, 255, onChange)\n",
    "    cv2.createTrackbar('G', 'color_palette', 0, 255, onChange)\n",
    "    cv2.createTrackbar('R', 'color_palette', 0, 255, onChange)\n",
    "    \n",
    "    switch = '0: OFF\\n1: ON'\n",
    "    cv2.createTrackbar(switch, 'color_palette', 0, 1, onChange)\n",
    "    \n",
    "    while True:\n",
    "        cv2.imshow('color_palette', img)\n",
    "        k = cv2.waitKey(1) & 0xFF\n",
    "        \n",
    "        if k == 27:\n",
    "            break\n",
    "            \n",
    "        b = cv2.getTrackbarPos('B', 'color_palette')\n",
    "        g = cv2.getTrackbarPos('G', 'color_palette')\n",
    "        r = cv2.getTrackbarPos('R', 'color_palette')\n",
    "        s = cv2.getTrackbarPos(switch, 'color_palette')\n",
    "        \n",
    "        if s == 0:\n",
    "            img[:] = 0\n",
    "        else:\n",
    "            img[:] = [b, g, r]\n",
    "            \n",
    "    cv2.destroyAllWindows()"
   ]
  },
  {
   "cell_type": "code",
   "execution_count": 7,
   "metadata": {},
   "outputs": [],
   "source": [
    "trackbar()"
   ]
  },
  {
   "cell_type": "code",
   "execution_count": null,
   "metadata": {},
   "outputs": [],
   "source": []
  }
 ],
 "metadata": {
  "kernelspec": {
   "display_name": "Python 3",
   "language": "python",
   "name": "python3"
  },
  "language_info": {
   "codemirror_mode": {
    "name": "ipython",
    "version": 3
   },
   "file_extension": ".py",
   "mimetype": "text/x-python",
   "name": "python",
   "nbconvert_exporter": "python",
   "pygments_lexer": "ipython3",
   "version": "3.5.6"
  }
 },
 "nbformat": 4,
 "nbformat_minor": 2
}
