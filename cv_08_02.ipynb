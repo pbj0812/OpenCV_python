{
 "cells": [
  {
   "cell_type": "code",
   "execution_count": 1,
   "metadata": {},
   "outputs": [],
   "source": [
    "__author__ = 'pbj00812@gmail.com'"
   ]
  },
  {
   "cell_type": "code",
   "execution_count": 2,
   "metadata": {},
   "outputs": [],
   "source": [
    "import numpy as np\n",
    "import cv2"
   ]
  },
  {
   "cell_type": "code",
   "execution_count": 3,
   "metadata": {},
   "outputs": [],
   "source": [
    "def onMouse(x):\n",
    "    pass"
   ]
  },
  {
   "cell_type": "code",
   "execution_count": 6,
   "metadata": {},
   "outputs": [],
   "source": [
    "def imgBlending(imgfile1, imgfile2):\n",
    "    img1 = cv2.imread(imgfile1)\n",
    "    img2 = cv2.imread(imgfile2)\n",
    "    img2 = img2[:img1.shape[0], :img1.shape[1]]\n",
    "    \n",
    "    cv2.namedWindow('ImgPane')\n",
    "    cv2.createTrackbar('MIXING', 'ImgPane', 0, 100, onMouse)\n",
    "    mix = cv2.getTrackbarPos('MIXING', 'ImgPane')\n",
    "    \n",
    "    while True:\n",
    "        img = cv2.addWeighted(img1, float(100-mix)/100, img2, float(mix)/100, 0)\n",
    "        cv2.imshow('ImgPane', img)\n",
    "        \n",
    "        k = cv2.waitKey(1) & 0xFF\n",
    "        if k == 27:\n",
    "            break\n",
    "            \n",
    "        mix = cv2.getTrackbarPos('MIXING', 'ImgPane')\n",
    "        \n",
    "    cv2.destroyAllWindows()"
   ]
  },
  {
   "cell_type": "code",
   "execution_count": 7,
   "metadata": {},
   "outputs": [],
   "source": [
    "imgBlending('../images/joboa3.jpg', '../images/france.jpg')"
   ]
  },
  {
   "cell_type": "code",
   "execution_count": null,
   "metadata": {},
   "outputs": [],
   "source": []
  }
 ],
 "metadata": {
  "kernelspec": {
   "display_name": "Python 3",
   "language": "python",
   "name": "python3"
  },
  "language_info": {
   "codemirror_mode": {
    "name": "ipython",
    "version": 3
   },
   "file_extension": ".py",
   "mimetype": "text/x-python",
   "name": "python",
   "nbconvert_exporter": "python",
   "pygments_lexer": "ipython3",
   "version": "3.5.6"
  }
 },
 "nbformat": 4,
 "nbformat_minor": 2
}
