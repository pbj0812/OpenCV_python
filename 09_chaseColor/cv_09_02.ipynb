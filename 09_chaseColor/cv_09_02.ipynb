{
 "cells": [
  {
   "cell_type": "code",
   "execution_count": 2,
   "metadata": {},
   "outputs": [],
   "source": [
    "__author__ = 'pbj00812@gmail.com'"
   ]
  },
  {
   "cell_type": "code",
   "execution_count": 3,
   "metadata": {},
   "outputs": [],
   "source": [
    "import numpy as np\n",
    "import cv2"
   ]
  },
  {
   "cell_type": "code",
   "execution_count": 4,
   "metadata": {},
   "outputs": [],
   "source": [
    "def tracking():\n",
    "    frame = cv2.imread('test.jpg')\n",
    "    \n",
    "    hsv = cv2.cvtColor(frame, cv2.COLOR_BGR2HSV)\n",
    "    \n",
    "    lower_blue = np.array([110, 100, 100])\n",
    "    upper_blue = np.array([130, 255, 255])\n",
    "    \n",
    "    lower_green = np.array([50, 100, 100])\n",
    "    upper_green = np.array([70, 255, 255])\n",
    "    \n",
    "    lower_red = np.array([-10, 100, 100])\n",
    "    upper_red = np.array([10, 255, 255])\n",
    "    \n",
    "    mask_blue = cv2.inRange(hsv, lower_blue, upper_blue)\n",
    "    mask_green = cv2.inRange(hsv, lower_green, upper_green)\n",
    "    mask_red = cv2.inRange(hsv, lower_red, upper_red)\n",
    "    \n",
    "    res1 = cv2.bitwise_and(frame, frame, mask=mask_blue)\n",
    "    res2 = cv2.bitwise_and(frame, frame, mask=mask_green)\n",
    "    res3 = cv2.bitwise_and(frame, frame, mask=mask_red)\n",
    "    \n",
    "    while True:\n",
    "        cv2.imshow('original', frame)\n",
    "        cv2.imshow('blue', res1)\n",
    "        cv2.imshow('green', res2)\n",
    "        cv2.imshow('red', res3)\n",
    "    \n",
    "        k = cv2.waitKey(1) & 0xFF\n",
    "        if k == 27:\n",
    "            break\n",
    "            \n",
    "    cv2.destroyAllWindows()"
   ]
  },
  {
   "cell_type": "code",
   "execution_count": 5,
   "metadata": {},
   "outputs": [],
   "source": [
    "tracking()"
   ]
  },
  {
   "cell_type": "code",
   "execution_count": 1,
   "metadata": {},
   "outputs": [],
   "source": [
    "# 색 추적 "
   ]
  },
  {
   "cell_type": "code",
   "execution_count": null,
   "metadata": {},
   "outputs": [],
   "source": []
  }
 ],
 "metadata": {
  "kernelspec": {
   "display_name": "Python 3",
   "language": "python",
   "name": "python3"
  },
  "language_info": {
   "codemirror_mode": {
    "name": "ipython",
    "version": 3
   },
   "file_extension": ".py",
   "mimetype": "text/x-python",
   "name": "python",
   "nbconvert_exporter": "python",
   "pygments_lexer": "ipython3",
   "version": "3.6.4"
  }
 },
 "nbformat": 4,
 "nbformat_minor": 2
}
