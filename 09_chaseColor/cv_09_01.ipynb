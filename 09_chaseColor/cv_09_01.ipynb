{
 "cells": [
  {
   "cell_type": "code",
   "execution_count": 3,
   "metadata": {},
   "outputs": [],
   "source": [
    "__author__ = 'pbj00812@gmail.com'"
   ]
  },
  {
   "cell_type": "code",
   "execution_count": 4,
   "metadata": {},
   "outputs": [],
   "source": [
    "import numpy as np\n",
    "import cv2"
   ]
  },
  {
   "cell_type": "code",
   "execution_count": 5,
   "metadata": {},
   "outputs": [],
   "source": [
    "def hsv():\n",
    "    blue = np.uint8([[[255, 0, 0]]])\n",
    "    green = np.uint8([[[0, 255, 0]]])\n",
    "    red = np.uint8([[[0, 0, 255]]])\n",
    "    \n",
    "    hsv_blue = cv2.cvtColor(blue, cv2.COLOR_BGR2HSV)\n",
    "    hsv_green = cv2.cvtColor(green, cv2.COLOR_BGR2HSV)\n",
    "    hsv_red = cv2.cvtColor(red, cv2.COLOR_BGR2HSV)\n",
    "    \n",
    "    print('HSV for BLUE: ', hsv_blue)\n",
    "    print('HSV for GREEN: ', hsv_green)\n",
    "    print('HSV for RED: ', hsv_red)"
   ]
  },
  {
   "cell_type": "code",
   "execution_count": 6,
   "metadata": {},
   "outputs": [
    {
     "name": "stdout",
     "output_type": "stream",
     "text": [
      "HSV for BLUE:  [[[120 255 255]]]\n",
      "HSV for GREEN:  [[[ 60 255 255]]]\n",
      "HSV for RED:  [[[  0 255 255]]]\n"
     ]
    }
   ],
   "source": [
    "hsv()"
   ]
  },
  {
   "cell_type": "code",
   "execution_count": null,
   "metadata": {},
   "outputs": [],
   "source": []
  }
 ],
 "metadata": {
  "kernelspec": {
   "display_name": "Python 3",
   "language": "python",
   "name": "python3"
  },
  "language_info": {
   "codemirror_mode": {
    "name": "ipython",
    "version": 3
   },
   "file_extension": ".py",
   "mimetype": "text/x-python",
   "name": "python",
   "nbconvert_exporter": "python",
   "pygments_lexer": "ipython3",
   "version": "3.6.4"
  }
 },
 "nbformat": 4,
 "nbformat_minor": 2
}
