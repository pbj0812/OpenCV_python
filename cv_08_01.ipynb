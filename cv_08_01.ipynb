{
 "cells": [
  {
   "cell_type": "code",
   "execution_count": 19,
   "metadata": {},
   "outputs": [],
   "source": [
    "__author__ = 'pbj00812@gmail.com'"
   ]
  },
  {
   "cell_type": "code",
   "execution_count": 20,
   "metadata": {},
   "outputs": [],
   "source": [
    "import numpy as np\n",
    "import cv2"
   ]
  },
  {
   "cell_type": "code",
   "execution_count": 21,
   "metadata": {},
   "outputs": [],
   "source": [
    "def addImage(imgfile1, imgfile2):\n",
    "    img1 = cv2.imread(imgfile1)\n",
    "    img2 = cv2.imread(imgfile2)\n",
    "    img2 = img2[:img1.shape[0], :img1.shape[1]]\n",
    "    \n",
    "    print(img1.shape)\n",
    "    print(img2.shape)\n",
    "    \n",
    "    cv2.imshow('img1', img1)\n",
    "    cv2.imshow('img2', img2)\n",
    "    \n",
    "    add_img1 = img1 + img2\n",
    "    add_img2 = cv2.add(img1, img2)\n",
    "    \n",
    "    cv2.imshow('img1+img2', add_img1) # if result of add_img1 over 255, the result be remainder of 256\n",
    "    cv2.imshow('add(img1, img2)', add_img2) # if result off add_img2 over 255, the result be remainder 255\n",
    "    \n",
    "    cv2.waitKey(0)\n",
    "    cv2.destroyAllWindows()"
   ]
  },
  {
   "cell_type": "code",
   "execution_count": 22,
   "metadata": {},
   "outputs": [
    {
     "name": "stdout",
     "output_type": "stream",
     "text": [
      "(515, 750, 3)\n",
      "(515, 750, 3)\n"
     ]
    }
   ],
   "source": [
    "addImage('../images/joboa3.jpg', '../images/france.jpg')"
   ]
  },
  {
   "cell_type": "code",
   "execution_count": null,
   "metadata": {},
   "outputs": [],
   "source": []
  }
 ],
 "metadata": {
  "kernelspec": {
   "display_name": "Python 3",
   "language": "python",
   "name": "python3"
  },
  "language_info": {
   "codemirror_mode": {
    "name": "ipython",
    "version": 3
   },
   "file_extension": ".py",
   "mimetype": "text/x-python",
   "name": "python",
   "nbconvert_exporter": "python",
   "pygments_lexer": "ipython3",
   "version": "3.5.6"
  }
 },
 "nbformat": 4,
 "nbformat_minor": 2
}
