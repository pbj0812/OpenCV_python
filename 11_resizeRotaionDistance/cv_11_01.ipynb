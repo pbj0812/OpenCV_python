{
 "cells": [
  {
   "cell_type": "code",
   "execution_count": 3,
   "metadata": {},
   "outputs": [],
   "source": [
    "__author__ = 'pbj00812@gmail.com'"
   ]
  },
  {
   "cell_type": "code",
   "execution_count": 4,
   "metadata": {},
   "outputs": [],
   "source": [
    "import numpy as np\n",
    "import cv2"
   ]
  },
  {
   "cell_type": "code",
   "execution_count": 5,
   "metadata": {},
   "outputs": [],
   "source": [
    "def transform():\n",
    "    img = cv2.imread('joboa.jpg')\n",
    "    h, w = img.shape[:2]\n",
    "    \n",
    "    img2 = cv2.resize(img, None, fx=0.5, fy=1, interpolation = cv2.INTER_AREA)\n",
    "    img3 = cv2.resize(img, None, fx=1, fy=0.5, interpolation = cv2.INTER_AREA)\n",
    "    img4 = cv2.resize(img, None, fx=0.5, fy=0.5, interpolation = cv2.INTER_AREA)\n",
    "    img5 = cv2.resize(img, None, fx=2, fy=2, interpolation = cv2.INTER_AREA)\n",
    "    img6 = cv2.resize(img, None, fx=2, fy=2, interpolation = cv2.INTER_LINEAR)\n",
    "    \n",
    "    cv2.imshow('original', img)\n",
    "    cv2.imshow('fx = 0.5', img2)\n",
    "    cv2.imshow('fy = 0.5', img3)\n",
    "    cv2.imshow('fx = 0.5, fy = 0.5', img4)\n",
    "    cv2.imshow('fx = 2, fy = 2, inter_area', img5)\n",
    "    cv2.imshow('fx = 2, fy = 2, inter_linear', img6)\n",
    "    \n",
    "    cv2.waitKey(0)\n",
    "    cv2.destroyAllWindows()"
   ]
  },
  {
   "cell_type": "code",
   "execution_count": null,
   "metadata": {},
   "outputs": [],
   "source": [
    "transform()"
   ]
  },
  {
   "cell_type": "code",
   "execution_count": null,
   "metadata": {},
   "outputs": [],
   "source": []
  }
 ],
 "metadata": {
  "kernelspec": {
   "display_name": "Python 3",
   "language": "python",
   "name": "python3"
  },
  "language_info": {
   "codemirror_mode": {
    "name": "ipython",
    "version": 3
   },
   "file_extension": ".py",
   "mimetype": "text/x-python",
   "name": "python",
   "nbconvert_exporter": "python",
   "pygments_lexer": "ipython3",
   "version": "3.6.4"
  }
 },
 "nbformat": 4,
 "nbformat_minor": 2
}
