{
 "cells": [
  {
   "cell_type": "code",
   "execution_count": 3,
   "metadata": {},
   "outputs": [],
   "source": [
    "__author__ = 'pbj00812@gmail.com'"
   ]
  },
  {
   "cell_type": "code",
   "execution_count": 4,
   "metadata": {},
   "outputs": [],
   "source": [
    "import numpy as np\n",
    "import cv2"
   ]
  },
  {
   "cell_type": "code",
   "execution_count": 5,
   "metadata": {},
   "outputs": [],
   "source": [
    "def onMouse(x):\n",
    "    pass"
   ]
  },
  {
   "cell_type": "code",
   "execution_count": 6,
   "metadata": {},
   "outputs": [],
   "source": [
    "def bluring():\n",
    "    img = cv2.imread('car.jpg')\n",
    "    \n",
    "    cv2.namedWindow('BlurPane')\n",
    "    cv2.createTrackbar('BLUR_MODE', 'BlurPane', 0, 2, onMouse)\n",
    "    cv2.createTrackbar('BLUR', 'BlurPane', 0, 5, onMouse)\n",
    "    \n",
    "    mode = cv2.getTrackbarPos('BLUR_MODE', 'BlurPane')\n",
    "    val = cv2.getTrackbarPos('BLUR', 'BlurPane')\n",
    "    \n",
    "    while True:\n",
    "        val = val*2 + 1\n",
    "        \n",
    "        try:\n",
    "            if mode == 0:\n",
    "                blur = cv2.blur(img, (val, val))\n",
    "            elif mode == 1:\n",
    "                blur = cv2.GaussianBlur(img, (val, val), 0)\n",
    "            elif mode == 2:\n",
    "                blur = cv2.medianBlur(img, val)\n",
    "            else:\n",
    "                break\n",
    "                \n",
    "            cv2.imshow('BlurPane', blur)\n",
    "        except:\n",
    "            break\n",
    "            \n",
    "        k = cv2.waitKey(1) & 0xFF\n",
    "        if k == 27:\n",
    "            break\n",
    "            \n",
    "        mode = cv2.getTrackbarPos('BLUR_MODE', 'BlurPane')\n",
    "        val = cv2.getTrackbarPos('BLUR', 'BlurPane')\n",
    "        \n",
    "    cv2.destroyAllWindows()"
   ]
  },
  {
   "cell_type": "code",
   "execution_count": 7,
   "metadata": {},
   "outputs": [],
   "source": [
    "bluring()"
   ]
  },
  {
   "cell_type": "code",
   "execution_count": 2,
   "metadata": {},
   "outputs": [],
   "source": [
    "# gaussian filter : 이미지의 가우스 노이즈를 제거하는데 가장 효과적\n",
    "# median filter : 화면의 소금-후추 노이즈를 제거하는데 매우 효과적"
   ]
  },
  {
   "cell_type": "code",
   "execution_count": null,
   "metadata": {},
   "outputs": [],
   "source": []
  }
 ],
 "metadata": {
  "kernelspec": {
   "display_name": "Python 3",
   "language": "python",
   "name": "python3"
  },
  "language_info": {
   "codemirror_mode": {
    "name": "ipython",
    "version": 3
   },
   "file_extension": ".py",
   "mimetype": "text/x-python",
   "name": "python",
   "nbconvert_exporter": "python",
   "pygments_lexer": "ipython3",
   "version": "3.6.4"
  }
 },
 "nbformat": 4,
 "nbformat_minor": 2
}
